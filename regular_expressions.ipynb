{
  "nbformat": 4,
  "nbformat_minor": 0,
  "metadata": {
    "colab": {
      "provenance": [],
      "authorship_tag": "ABX9TyNe56z0tG+VcxnJlWptgnoS",
      "include_colab_link": true
    },
    "kernelspec": {
      "name": "python3",
      "display_name": "Python 3"
    },
    "language_info": {
      "name": "python"
    }
  },
  "cells": [
    {
      "cell_type": "markdown",
      "metadata": {
        "id": "view-in-github",
        "colab_type": "text"
      },
      "source": [
        "<a href=\"https://colab.research.google.com/github/naveen32145/pythoncodes/blob/main/regular_expressions.ipynb\" target=\"_parent\"><img src=\"https://colab.research.google.com/assets/colab-badge.svg\" alt=\"Open In Colab\"/></a>"
      ]
    },
    {
      "cell_type": "markdown",
      "source": [
        "# **operations on regular expressions **\n",
        "\n",
        "This string includes:\n",
        "\n",
        "Alphanumeric text\n",
        "\n",
        "Punctuation marks\n",
        "\n",
        "Credit card number pattern (1234-5678-9012-3456)\n",
        "\n",
        "Date pattern (08/25)\n",
        "\n",
        "Phone number pattern (555-1234)\n",
        "\n",
        "Email address pattern (john.doe@email.com)\n",
        "\n",
        "URL pattern (https://www.example.com)\n",
        "\n",
        "Hashtag pattern (#RegexTesting)  \n",
        "\n",
        "\n",
        "\n",
        "It covers various common patterns found in text, allowing for testing of different regex expressions. Feel free to adjust it based on specific patterns or characters you want to include!"
      ],
      "metadata": {
        "id": "3h-l_upDafAb"
      }
    },
    {
      "cell_type": "code",
      "execution_count": null,
      "metadata": {
        "id": "A9x8icoxDxnG"
      },
      "outputs": [],
      "source": [
        "\n",
        "text='''Lorem ipsum dolor sit amet, consectetur adipiscing elit.\n",
        "Sed do eiusmod tempor incididunt ut labore et dolore magna aliqua.\n",
        "1234-5678-9012-3456 08/25 555-1234 john.doe@email.com\n",
        " https://www.example.com #RegexTesting'''\n"
      ]
    }
  ]
}